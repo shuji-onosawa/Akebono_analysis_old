{
 "cells": [
  {
   "cell_type": "code",
   "execution_count": 4,
   "metadata": {},
   "outputs": [
    {
     "data": {
      "text/plain": [
       "('1990-02-11 00:57:29.250000', '1990-02-12 00:57:29.250000', 634784249.25)"
      ]
     },
     "execution_count": 4,
     "metadata": {},
     "output_type": "execute_result"
    }
   ],
   "source": [
    "import pytplot\n",
    "import numpy as np\n",
    "pytplot.cdf_to_tplot('ak_h1_elf_19900211_v03.cdf')\n",
    "E = pytplot.get_data('dE_wav_narrow')\n",
    "\n",
    "import pyspedas\n",
    "pyspedas.time_string(E.times[0]), pyspedas.time_string(E.times[0] + 24*3600),  E.times[0] + 24*3600 "
   ]
  },
  {
   "cell_type": "code",
   "execution_count": 2,
   "metadata": {},
   "outputs": [
    {
     "name": "stderr",
     "output_type": "stream",
     "text": [
      "/home/www/.local/lib/python3.8/site-packages/erfa/core.py:154: ErfaWarning: ERFA function \"dtf2d\" yielded 1 of \"dubious year (Note 6)\"\n",
      "  warnings.warn('ERFA function \"{}\" yielded {}'.format(func_name, wmsg),\n"
     ]
    },
    {
     "name": "stdout",
     "output_type": "stream",
     "text": [
      "634262400.75 (array([], dtype=int64),) (array([], dtype=int64),)\n"
     ]
    },
    {
     "ename": "ZeroDivisionError",
     "evalue": "division by zero",
     "output_type": "error",
     "traceback": [
      "\u001b[0;31m---------------------------------------------------------------------------\u001b[0m",
      "\u001b[0;31mZeroDivisionError\u001b[0m                         Traceback (most recent call last)",
      "\u001b[1;32m/home/www/Document/Akebono_analysis_test/Akebono_analysis/VLF_mca/Akebono_ELF_data/akebono_elf_analysis.ipynb Cell 1\u001b[0m in \u001b[0;36m<cell line: 12>\u001b[0;34m()\u001b[0m\n\u001b[1;32m     <a href='vscode-notebook-cell://wsl%2Bubuntu-20.04/home/www/Document/Akebono_analysis_test/Akebono_analysis/VLF_mca/Akebono_ELF_data/akebono_elf_analysis.ipynb#W2sdnNjb2RlLXJlbW90ZQ%3D%3D?line=16'>17</a>\u001b[0m     minE_index \u001b[39m=\u001b[39m np\u001b[39m.\u001b[39mwhere(E_for_time_delta\u001b[39m==\u001b[39mminE)\n\u001b[1;32m     <a href='vscode-notebook-cell://wsl%2Bubuntu-20.04/home/www/Document/Akebono_analysis_test/Akebono_analysis/VLF_mca/Akebono_ELF_data/akebono_elf_analysis.ipynb#W2sdnNjb2RlLXJlbW90ZQ%3D%3D?line=18'>19</a>\u001b[0m     \u001b[39mprint\u001b[39m(time_array[i], maxE_index, minE_index)\n\u001b[0;32m---> <a href='vscode-notebook-cell://wsl%2Bubuntu-20.04/home/www/Document/Akebono_analysis_test/Akebono_analysis/VLF_mca/Akebono_ELF_data/akebono_elf_analysis.ipynb#W2sdnNjb2RlLXJlbW90ZQ%3D%3D?line=20'>21</a>\u001b[0m     saturation_rate[i] \u001b[39m=\u001b[39m (maxE_index[\u001b[39m0\u001b[39;49m]\u001b[39m.\u001b[39;49msize \u001b[39m+\u001b[39;49m minE_index[\u001b[39m0\u001b[39;49m]\u001b[39m.\u001b[39;49msize)\u001b[39m/\u001b[39;49mtime_index[\u001b[39m0\u001b[39;49m]\u001b[39m.\u001b[39;49msize\n\u001b[1;32m     <a href='vscode-notebook-cell://wsl%2Bubuntu-20.04/home/www/Document/Akebono_analysis_test/Akebono_analysis/VLF_mca/Akebono_ELF_data/akebono_elf_analysis.ipynb#W2sdnNjb2RlLXJlbW90ZQ%3D%3D?line=22'>23</a>\u001b[0m pytplot\u001b[39m.\u001b[39mstore_data(\u001b[39m'\u001b[39m\u001b[39msaturation_rate\u001b[39m\u001b[39m'\u001b[39m, data\u001b[39m=\u001b[39m{\u001b[39m'\u001b[39m\u001b[39mtimes\u001b[39m\u001b[39m'\u001b[39m:time_array, \u001b[39m'\u001b[39m\u001b[39my\u001b[39m\u001b[39m'\u001b[39m:saturation_rate})\n\u001b[1;32m     <a href='vscode-notebook-cell://wsl%2Bubuntu-20.04/home/www/Document/Akebono_analysis_test/Akebono_analysis/VLF_mca/Akebono_ELF_data/akebono_elf_analysis.ipynb#W2sdnNjb2RlLXJlbW90ZQ%3D%3D?line=24'>25</a>\u001b[0m pytplot\u001b[39m.\u001b[39moptions(\u001b[39m'\u001b[39m\u001b[39mdE_wav_narrow\u001b[39m\u001b[39m'\u001b[39m, \u001b[39m'\u001b[39m\u001b[39myrange\u001b[39m\u001b[39m'\u001b[39m, [\u001b[39m-\u001b[39m\u001b[39m1500\u001b[39m, \u001b[39m1500\u001b[39m])\n",
      "\u001b[0;31mZeroDivisionError\u001b[0m: division by zero"
     ]
    }
   ],
   "source": [
    "import pytplot\n",
    "import numpy as np\n",
    "pytplot.cdf_to_tplot('ak_h1_elf_19900211_v03.cdf')\n",
    "E = pytplot.get_data('dE_wav_narrow')\n",
    "\n",
    "maxE, minE = max(E.y), min(E.y)\n",
    "time_delta = 1 #s\n",
    "time_array = np.arange(E.times[0], E.times[0]+int(24*3600/time_delta), time_delta)\n",
    "\n",
    "saturation_rate = np.empty(time_array.size)\n",
    "\n",
    "for i in range(time_array.size-1):\n",
    "    time_index = np.where((E.times >= time_array[i]) & (E.times < time_array[i+1]))\n",
    "    E_for_time_delta = E.y[time_index]\n",
    "    \n",
    "    maxE_index = np.where(E_for_time_delta==maxE)\n",
    "    minE_index = np.where(E_for_time_delta==minE)\n",
    "    \n",
    "    print(time_array[i], maxE_index, minE_index)\n",
    "    \n",
    "    saturation_rate[i] = (maxE_index[0].size + minE_index[0].size)/time_index[0].size\n",
    "\n",
    "pytplot.store_data('saturation_rate', data={'times':time_array, 'y':saturation_rate})\n",
    "        \n",
    "pytplot.options('dE_wav_narrow', 'yrange', [-1500, 1500])\n",
    "pytplot.tplot(['dE_wav_narrow', 'saturation_rate'])"
   ]
  },
  {
   "cell_type": "code",
   "execution_count": 19,
   "metadata": {},
   "outputs": [
    {
     "data": {
      "text/plain": [
       "array([4294967294,          0,          0,          0,          0,\n",
       "                0,          0,          0,          0,          0,\n",
       "                0,          0,        256,          0,          0,\n",
       "                0,          0,          0,          0,          0,\n",
       "             4864,        768,        768,        768,        768,\n",
       "                0,        768,      17152,          0,          0,\n",
       "                0,          0,          0,          0,          0,\n",
       "                0,          0,          0,          0,          0,\n",
       "                0,          0,          0,          0,          0,\n",
       "                0,          0,          0,          0,          0,\n",
       "                0,          0,          0,          0,          0,\n",
       "                0,          0,          0,          0,          0,\n",
       "                0,          0,          0,          0,          0,\n",
       "             4096,          0,          0,          0,          0,\n",
       "                0,          0,          0,          0,          0,\n",
       "                0,          0,          0,          0,          0,\n",
       "                0,          0,          0,          0,          0,\n",
       "                0,          0,          0,          0,          0,\n",
       "                0,          0,        256,          0,          0,\n",
       "                0,          0,          0,          0,          0],\n",
       "      dtype=uint32)"
      ]
     },
     "execution_count": 19,
     "metadata": {},
     "output_type": "execute_result"
    }
   ],
   "source": [
    "postgap = pytplot.get_data('PostGap')\n",
    "postgap.y[0:100]"
   ]
  },
  {
   "cell_type": "code",
   "execution_count": 3,
   "metadata": {},
   "outputs": [
    {
     "name": "stderr",
     "output_type": "stream",
     "text": [
      "/home/www/.local/lib/python3.8/site-packages/erfa/core.py:154: ErfaWarning: ERFA function \"dtf2d\" yielded 1 of \"dubious year (Note 6)\"\n",
      "  warnings.warn('ERFA function \"{}\" yielded {}'.format(func_name, wmsg),\n"
     ]
    },
    {
     "ename": "ValueError",
     "evalue": "No variable by this name: Band",
     "output_type": "error",
     "traceback": [
      "\u001b[0;31m---------------------------------------------------------------------------\u001b[0m",
      "\u001b[0;31mValueError\u001b[0m                                Traceback (most recent call last)",
      "\u001b[1;32m/home/www/Document/Akebono_analysis/Akebono_analysis/VLF_mca/Akebono_ELF_data/akebono_elf_analysis.ipynb Cell 3\u001b[0m in \u001b[0;36m<cell line: 1>\u001b[0;34m()\u001b[0m\n\u001b[0;32m----> <a href='vscode-notebook-cell://wsl%2Bubuntu-20.04/home/www/Document/Akebono_analysis/Akebono_analysis/VLF_mca/Akebono_ELF_data/akebono_elf_analysis.ipynb#W6sdnNjb2RlLXJlbW90ZQ%3D%3D?line=0'>1</a>\u001b[0m pytplot\u001b[39m.\u001b[39;49mcdf_to_tplot(\u001b[39m'\u001b[39;49m\u001b[39mak_h1_elf_19900211_v01.cdf\u001b[39;49m\u001b[39m'\u001b[39;49m)\n",
      "File \u001b[0;32m~/.local/lib/python3.8/site-packages/pytplot/importers/cdf_to_tplot.py:331\u001b[0m, in \u001b[0;36mcdf_to_tplot\u001b[0;34m(filenames, varformat, get_support_data, get_metadata, get_ignore_data, string_encoding, prefix, suffix, plot, merge, center_measurement, notplot, varnames)\u001b[0m\n\u001b[1;32m    329\u001b[0m \u001b[39mif\u001b[39;00m \u001b[39m'\u001b[39m\u001b[39mDEPEND_1\u001b[39m\u001b[39m'\u001b[39m \u001b[39min\u001b[39;00m var_atts:\n\u001b[1;32m    330\u001b[0m     \u001b[39mif\u001b[39;00m \u001b[39misinstance\u001b[39m(var_atts[\u001b[39m'\u001b[39m\u001b[39mDEPEND_1\u001b[39m\u001b[39m'\u001b[39m], \u001b[39mstr\u001b[39m):\n\u001b[0;32m--> 331\u001b[0m         depend_1_var_atts \u001b[39m=\u001b[39m cdf_file\u001b[39m.\u001b[39;49mvarattsget(var_atts[\u001b[39m'\u001b[39;49m\u001b[39mDEPEND_1\u001b[39;49m\u001b[39m'\u001b[39;49m])\n\u001b[1;32m    333\u001b[0m         scale_type \u001b[39m=\u001b[39m depend_1_var_atts\u001b[39m.\u001b[39mget(\u001b[39m'\u001b[39m\u001b[39mSCALETYP\u001b[39m\u001b[39m'\u001b[39m)\n\u001b[1;32m    334\u001b[0m         \u001b[39mif\u001b[39;00m scale_type \u001b[39mis\u001b[39;00m \u001b[39mNone\u001b[39;00m:\n",
      "File \u001b[0;32m~/.local/lib/python3.8/site-packages/cdflib/cdfread.py:710\u001b[0m, in \u001b[0;36mCDF.varattsget\u001b[0;34m(self, variable, expand, to_np)\u001b[0m\n\u001b[1;32m    708\u001b[0m         position \u001b[39m=\u001b[39m \u001b[39mself\u001b[39m\u001b[39m.\u001b[39m_first_rvariable\n\u001b[1;32m    709\u001b[0m         num_variables \u001b[39m=\u001b[39m \u001b[39mself\u001b[39m\u001b[39m.\u001b[39m_num_rvariable\n\u001b[0;32m--> 710\u001b[0m     \u001b[39mraise\u001b[39;00m \u001b[39mValueError\u001b[39;00m(\u001b[39mf\u001b[39m\u001b[39m'\u001b[39m\u001b[39mNo variable by this name: \u001b[39m\u001b[39m{\u001b[39;00mvariable\u001b[39m}\u001b[39;00m\u001b[39m'\u001b[39m)\n\u001b[1;32m    711\u001b[0m \u001b[39melif\u001b[39;00m \u001b[39misinstance\u001b[39m(variable, \u001b[39mint\u001b[39m):\n\u001b[1;32m    712\u001b[0m     \u001b[39mif\u001b[39;00m \u001b[39mself\u001b[39m\u001b[39m.\u001b[39m_num_zvariable \u001b[39m>\u001b[39m \u001b[39m0\u001b[39m:\n",
      "\u001b[0;31mValueError\u001b[0m: No variable by this name: Band"
     ]
    }
   ],
   "source": [
    "pytplot.cdf_to_tplot('ak_h1_elf_19900211_v01.cdf')"
   ]
  },
  {
   "cell_type": "code",
   "execution_count": 12,
   "metadata": {},
   "outputs": [
    {
     "ename": "ValueError",
     "evalue": "year -1 is out of range",
     "output_type": "error",
     "traceback": [
      "\u001b[0;31m---------------------------------------------------------------------------\u001b[0m",
      "\u001b[0;31mValueError\u001b[0m                                Traceback (most recent call last)",
      "\u001b[1;32m/home/www/Document/Akebono_analysis/Akebono_analysis/VLF_mca/Akebono_ELF_data/akebono_elf_analysis.ipynb Cell 2\u001b[0m in \u001b[0;36m<cell line: 1>\u001b[0;34m()\u001b[0m\n\u001b[0;32m----> <a href='vscode-notebook-cell://wsl%2Bubuntu-20.04/home/www/Document/Akebono_analysis/Akebono_analysis/VLF_mca/Akebono_ELF_data/akebono_elf_analysis.ipynb#W1sdnNjb2RlLXJlbW90ZQ%3D%3D?line=0'>1</a>\u001b[0m pytplot\u001b[39m.\u001b[39;49mtplot(\u001b[39m'\u001b[39;49m\u001b[39mdE_wav_narrow\u001b[39;49m\u001b[39m'\u001b[39;49m)\n",
      "File \u001b[0;32m~/.local/lib/python3.8/site-packages/pytplot/tplot.py:160\u001b[0m, in \u001b[0;36mtplot\u001b[0;34m(name, var_label, slice, combine_axes, nb, save_file, gui, qt, bokeh, save_png, display, testing, extra_functions, extra_function_args, vert_spacing, pos_2d, pos_3d, exec_qt, window_name, interactive, xsize, ysize, save_eps, save_svg, save_pdf, save_jpeg, dpi, fig, axis, pseudo_plot_num, second_axis_size, return_plot_objects)\u001b[0m\n\u001b[1;32m     77\u001b[0m \u001b[39m\"\"\"\u001b[39;00m\n\u001b[1;32m     78\u001b[0m \u001b[39mThis is the function used to display the tplot variables stored in memory.\u001b[39;00m\n\u001b[1;32m     79\u001b[0m \u001b[39mThe default output is to show the plots stacked on top of one another inside of a qt window\u001b[39;00m\n\u001b[0;32m   (...)\u001b[0m\n\u001b[1;32m    156\u001b[0m \u001b[39m    >>> div, component = pytplot.tplot([\"Variable1\", \"Variable2\", \"Variable3\"], gui=True)\u001b[39;00m\n\u001b[1;32m    157\u001b[0m \u001b[39m\"\"\"\u001b[39;00m\n\u001b[1;32m    159\u001b[0m \u001b[39mif\u001b[39;00m qt \u001b[39m==\u001b[39m \u001b[39mFalse\u001b[39;00m \u001b[39mand\u001b[39;00m bokeh \u001b[39m==\u001b[39m \u001b[39mFalse\u001b[39;00m:\n\u001b[0;32m--> 160\u001b[0m     \u001b[39mreturn\u001b[39;00m mpl_tplot(name, var_label\u001b[39m=\u001b[39;49mvar_label,\n\u001b[1;32m    161\u001b[0m                            xsize\u001b[39m=\u001b[39;49mxsize, \n\u001b[1;32m    162\u001b[0m                            ysize\u001b[39m=\u001b[39;49mysize, \n\u001b[1;32m    163\u001b[0m                            save_png\u001b[39m=\u001b[39;49msave_png, \n\u001b[1;32m    164\u001b[0m                            save_eps\u001b[39m=\u001b[39;49msave_eps, \n\u001b[1;32m    165\u001b[0m                            save_svg\u001b[39m=\u001b[39;49msave_svg, \n\u001b[1;32m    166\u001b[0m                            save_pdf\u001b[39m=\u001b[39;49msave_pdf,\n\u001b[1;32m    167\u001b[0m                            save_jpeg\u001b[39m=\u001b[39;49msave_jpeg,\n\u001b[1;32m    168\u001b[0m                            dpi\u001b[39m=\u001b[39;49mdpi,\n\u001b[1;32m    169\u001b[0m                            display\u001b[39m=\u001b[39;49mdisplay, \n\u001b[1;32m    170\u001b[0m                            fig\u001b[39m=\u001b[39;49mfig, \n\u001b[1;32m    171\u001b[0m                            axis\u001b[39m=\u001b[39;49maxis,\n\u001b[1;32m    172\u001b[0m                            \u001b[39mslice\u001b[39;49m\u001b[39m=\u001b[39;49m\u001b[39mslice\u001b[39;49m,\n\u001b[1;32m    173\u001b[0m                            pseudo_plot_num\u001b[39m=\u001b[39;49mpseudo_plot_num, \n\u001b[1;32m    174\u001b[0m                            second_axis_size\u001b[39m=\u001b[39;49msecond_axis_size,\n\u001b[1;32m    175\u001b[0m                            return_plot_objects\u001b[39m=\u001b[39;49mreturn_plot_objects)\n\u001b[1;32m    177\u001b[0m \u001b[39mif\u001b[39;00m interactive:\n\u001b[1;32m    178\u001b[0m     \u001b[39mslice\u001b[39m\u001b[39m=\u001b[39m\u001b[39mTrue\u001b[39;00m\n",
      "File \u001b[0;32m~/.local/lib/python3.8/site-packages/pytplot/MPLPlotter/tplot.py:182\u001b[0m, in \u001b[0;36mtplot\u001b[0;34m(variables, var_label, xsize, ysize, save_png, save_eps, save_svg, save_pdf, save_jpeg, dpi, display, fig, axis, pseudo_plot_num, pseudo_right_axis, pseudo_yaxis_options, pseudo_zaxis_options, pseudo_line_options, pseudo_extra_options, second_axis_size, slice, return_plot_objects)\u001b[0m\n\u001b[1;32m    179\u001b[0m     \u001b[39mcontinue\u001b[39;00m\n\u001b[1;32m    181\u001b[0m \u001b[39m# the data are stored as unix times, but matplotlib wants datatime objects\u001b[39;00m\n\u001b[0;32m--> 182\u001b[0m var_times \u001b[39m=\u001b[39m [datetime\u001b[39m.\u001b[39mfromtimestamp(time, tz\u001b[39m=\u001b[39mtimezone\u001b[39m.\u001b[39mutc) \u001b[39mfor\u001b[39;00m time \u001b[39min\u001b[39;00m var_data\u001b[39m.\u001b[39mtimes]\n\u001b[1;32m    184\u001b[0m \u001b[39m# set the figure title\u001b[39;00m\n\u001b[1;32m    185\u001b[0m \u001b[39mif\u001b[39;00m idx \u001b[39m==\u001b[39m \u001b[39m0\u001b[39m \u001b[39mand\u001b[39;00m plot_title \u001b[39m!=\u001b[39m \u001b[39m'\u001b[39m\u001b[39m'\u001b[39m:\n",
      "File \u001b[0;32m~/.local/lib/python3.8/site-packages/pytplot/MPLPlotter/tplot.py:182\u001b[0m, in \u001b[0;36m<listcomp>\u001b[0;34m(.0)\u001b[0m\n\u001b[1;32m    179\u001b[0m     \u001b[39mcontinue\u001b[39;00m\n\u001b[1;32m    181\u001b[0m \u001b[39m# the data are stored as unix times, but matplotlib wants datatime objects\u001b[39;00m\n\u001b[0;32m--> 182\u001b[0m var_times \u001b[39m=\u001b[39m [datetime\u001b[39m.\u001b[39;49mfromtimestamp(time, tz\u001b[39m=\u001b[39;49mtimezone\u001b[39m.\u001b[39;49mutc) \u001b[39mfor\u001b[39;00m time \u001b[39min\u001b[39;00m var_data\u001b[39m.\u001b[39mtimes]\n\u001b[1;32m    184\u001b[0m \u001b[39m# set the figure title\u001b[39;00m\n\u001b[1;32m    185\u001b[0m \u001b[39mif\u001b[39;00m idx \u001b[39m==\u001b[39m \u001b[39m0\u001b[39m \u001b[39mand\u001b[39;00m plot_title \u001b[39m!=\u001b[39m \u001b[39m'\u001b[39m\u001b[39m'\u001b[39m:\n",
      "\u001b[0;31mValueError\u001b[0m: year -1 is out of range"
     ]
    },
    {
     "data": {
      "image/png": "[encoded data removed]",
      "text/plain": [
       "<Figure size 576x720 with 1 Axes>"
      ]
     },
     "metadata": {
      "needs_background": "light"
     },
     "output_type": "display_data"
    }
   ],
   "source": [
    "pytplot.tplot('dE_wav_narrow')\n"
   ]
  },
  {
   "cell_type": "code",
   "execution_count": 7,
   "metadata": {},
   "outputs": [
    {
     "data": {
      "image/png": "[encoded data removed]",
      "text/plain": [
       "<Figure size 576x720 with 1 Axes>"
      ]
     },
     "metadata": {
      "needs_background": "light"
     },
     "output_type": "display_data"
    }
   ],
   "source": [
    "pytplot.tlimit(['1990-02-11 18:00:00', '1990-02-11 18:14:00'])\n",
    "pytplot.tplot('dE_wav_narrow')"
   ]
  },
  {
   "cell_type": "code",
   "execution_count": 4,
   "metadata": {},
   "outputs": [
    {
     "data": {
      "text/plain": [
       "{'CDF': PosixPath('/home/www/Document/Akebono_analysis/Akebono_analysis/VLF_mca/Akebono_ELF_data/ak_h1_elf_19900211_v03.cdf'),\n",
       " 'Version': '2.7.2',\n",
       " 'Encoding': 6,\n",
       " 'Majority': 'Row_major',\n",
       " 'rVariables': [],\n",
       " 'zVariables': ['dE_wav_narrow',\n",
       "  'dBx_wav_narrow',\n",
       "  'dBy_wav_narrow',\n",
       "  'dBz_wav_narrow',\n",
       "  'E_axis',\n",
       "  'Mode',\n",
       "  'Epoch',\n",
       "  'Epoch_wav_narrow',\n",
       "  'PostGap'],\n",
       " 'Attributes': [{'Acknowledgement': 'Global'},\n",
       "  {'ADID_ref': 'Global'},\n",
       "  {'Data_type': 'Global'},\n",
       "  {'Data_version': 'Global'},\n",
       "  {'Descriptor': 'Global'},\n",
       "  {'Discipline': 'Global'},\n",
       "  {'Generated_by': 'Global'},\n",
       "  {'Generation_date': 'Global'},\n",
       "  {'Instrument_type': 'Global'},\n",
       "  {'Logical_file_id': 'Global'},\n",
       "  {'Logical_source': 'Global'},\n",
       "  {'Logical_source_description': 'Global'},\n",
       "  {'Mission_group': 'Global'},\n",
       "  {'MODS': 'Global'},\n",
       "  {'PI_affiliation': 'Global'},\n",
       "  {'PI_name': 'Global'},\n",
       "  {'Project': 'Global'},\n",
       "  {'Rules_of_use': 'Global'},\n",
       "  {'source_name': 'Global'},\n",
       "  {'TEXT': 'Global'},\n",
       "  {'Time_resolution': 'Global'},\n",
       "  {'TITLE': 'Global'},\n",
       "  {'Start_time': 'Global'},\n",
       "  {'End_time': 'Global'},\n",
       "  {'CATDESC': 'Variable'},\n",
       "  {'DEPEND_0': 'Variable'},\n",
       "  {'DICT_KEY': 'Variable'},\n",
       "  {'DISPLAY_TYPE': 'Variable'},\n",
       "  {'FIELDNAM': 'Variable'},\n",
       "  {'FILLVAL': 'Variable'},\n",
       "  {'FORMAT': 'Variable'},\n",
       "  {'LABLAXIS': 'Variable'},\n",
       "  {'MONOTON': 'Variable'},\n",
       "  {'SCALETYP': 'Variable'},\n",
       "  {'UNITS': 'Variable'},\n",
       "  {'VALIDMAX': 'Variable'},\n",
       "  {'VALIDMIN': 'Variable'},\n",
       "  {'VAR_NOTE': 'Variable'},\n",
       "  {'VAR_TYPE': 'Variable'}],\n",
       " 'Copyright': '\\nNSSDC Common Data Format (CDF)\\n(C) Copyright 1990-2004 NASA/GSFC\\nNational Space Science Data Center\\nNASA/Goddard Space Flight Center\\nGreenbelt, Maryland 20771 USA\\n(DECnet   -- NCF::CDFSUPPORT)\\n(Internet -- CDFSUPPORT@NSSDCA.GSFC.NASA.GOV)\\n',\n",
       " 'Checksum': False,\n",
       " 'Num_rdim': 0,\n",
       " 'rDim_sizes': [],\n",
       " 'Compressed': False}"
      ]
     },
     "execution_count": 4,
     "metadata": {},
     "output_type": "execute_result"
    }
   ],
   "source": [
    "import cdflib\n",
    "cdf_file = cdflib.CDF('ak_h1_elf_19900211_v03.cdf')\n",
    "cdf_file.cdf_info()"
   ]
  },
  {
   "cell_type": "code",
   "execution_count": null,
   "metadata": {},
   "outputs": [],
   "source": []
  }
 ],
 "metadata": {
  "kernelspec": {
   "display_name": "Python 3.8.10 64-bit",
   "language": "python",
   "name": "python3"
  },
  "language_info": {
   "codemirror_mode": {
    "name": "ipython",
    "version": 3
   },
   "file_extension": ".py",
   "mimetype": "text/x-python",
   "name": "python",
   "nbconvert_exporter": "python",
   "pygments_lexer": "ipython3",
   "version": "3.8.10"
  },
  "orig_nbformat": 4,
  "vscode": {
   "interpreter": {
    "hash": "916dbcbb3f70747c44a77c7bcd40155683ae19c65e1c03b4aa3499c5328201f1"
   }
  }
 },
 "nbformat": 4,
 "nbformat_minor": 2
}
