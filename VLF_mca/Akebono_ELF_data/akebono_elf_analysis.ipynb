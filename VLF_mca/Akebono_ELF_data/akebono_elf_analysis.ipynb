{
 "cells": [
  {
   "cell_type": "code",
   "execution_count": 1,
   "metadata": {},
   "outputs": [
    {
     "name": "stderr",
     "output_type": "stream",
     "text": [
      "/usr/local/lib/python3.8/dist-packages/erfa/core.py:154: ErfaWarning: ERFA function \"dtf2d\" yielded 1 of \"dubious year (Note 6)\"\n",
      "  warnings.warn('ERFA function \"{}\" yielded {}'.format(func_name, wmsg),\n"
     ]
    },
    {
     "data": {
      "text/plain": [
       "['dE_wav_narrow',\n",
       " 'dBx_wav_narrow',\n",
       " 'dBy_wav_narrow',\n",
       " 'dBz_wav_narrow',\n",
       " 'PostGap']"
      ]
     },
     "execution_count": 1,
     "metadata": {},
     "output_type": "execute_result"
    }
   ],
   "source": [
    "import pytplot\n",
    "pytplot.cdf_to_tplot('ak_h1_elf_19900218_v03.cdf')"
   ]
  },
  {
   "cell_type": "code",
   "execution_count": 2,
   "metadata": {},
   "outputs": [
    {
     "data": {
      "text/plain": [
       "{'CATDESC': 'Post Gap Quality Flag',\n",
       " 'DEPEND_0': 'Epoch',\n",
       " 'DICT_KEY': 'FLAG > post_gap',\n",
       " 'DISPLAY_TYPE': 'time_series',\n",
       " 'FIELDNAM': 'Post Gap Quality Flag',\n",
       " 'FILLVAL': array([4294967295], dtype=uint32),\n",
       " 'FORMAT': '%10d',\n",
       " 'LABLAXIS': 'PostGap',\n",
       " 'VALIDMAX': array([65377], dtype=uint32),\n",
       " 'VALIDMIN': array([0], dtype=uint32),\n",
       " 'VAR_NOTE': 'The Quality flag of ELF data\\n  1:ELF OFF\\n  16:BDR ON\\n  32:SMS ON\\n 256,512,768:saturation persentage of E\\n  1024,2048,3072:saturation persentage of B(Bx)\\n  4096,8192,12288:saturation persentage of B(By)\\n  16384,32768,49152:saturation persentage of B(Bz)\\n  (saturation persentage\\n  00:~5%\\n  01:5~10%\\n  10:10~20%\\n  11:20%~\\n)',\n",
       " 'VAR_TYPE': 'data'}"
      ]
     },
     "execution_count": 2,
     "metadata": {},
     "output_type": "execute_result"
    }
   ],
   "source": [
    "pytplot.data_quants['PostGap'].CDF['VATT']"
   ]
  },
  {
   "cell_type": "code",
   "execution_count": 4,
   "metadata": {},
   "outputs": [
    {
     "data": {
      "text/plain": [
       "('1990-02-11 00:57:29.250000', '1990-02-12 00:57:29.250000', 634784249.25)"
      ]
     },
     "execution_count": 4,
     "metadata": {},
     "output_type": "execute_result"
    }
   ],
   "source": [
    "import pytplot\n",
    "import numpy as np\n",
    "pytplot.cdf_to_tplot('ak_h1_elf_19900211_v03.cdf')\n",
    "E = pytplot.get_data('dE_wav_narrow')\n",
    "\n",
    "import pyspedas\n",
    "pyspedas.time_string(E.times[0]), pyspedas.time_string(E.times[0] + 24*3600),  E.times[0] + 24*3600 "
   ]
  },
  {
   "cell_type": "code",
   "execution_count": 2,
   "metadata": {},
   "outputs": [
    {
     "name": "stderr",
     "output_type": "stream",
     "text": [
      "/home/www/.local/lib/python3.8/site-packages/erfa/core.py:154: ErfaWarning: ERFA function \"dtf2d\" yielded 1 of \"dubious year (Note 6)\"\n",
      "  warnings.warn('ERFA function \"{}\" yielded {}'.format(func_name, wmsg),\n"
     ]
    },
    {
     "name": "stdout",
     "output_type": "stream",
     "text": [
      "634262400.75 (array([], dtype=int64),) (array([], dtype=int64),)\n"
     ]
    },
    {
     "ename": "ZeroDivisionError",
     "evalue": "division by zero",
     "output_type": "error",
     "traceback": [
      "\u001b[0;31m---------------------------------------------------------------------------\u001b[0m",
      "\u001b[0;31mZeroDivisionError\u001b[0m                         Traceback (most recent call last)",
      "\u001b[1;32m/home/www/Document/Akebono_analysis_test/Akebono_analysis/VLF_mca/Akebono_ELF_data/akebono_elf_analysis.ipynb Cell 1\u001b[0m in \u001b[0;36m<cell line: 12>\u001b[0;34m()\u001b[0m\n\u001b[1;32m     <a href='vscode-notebook-cell://wsl%2Bubuntu-20.04/home/www/Document/Akebono_analysis_test/Akebono_analysis/VLF_mca/Akebono_ELF_data/akebono_elf_analysis.ipynb#W2sdnNjb2RlLXJlbW90ZQ%3D%3D?line=16'>17</a>\u001b[0m     minE_index \u001b[39m=\u001b[39m np\u001b[39m.\u001b[39mwhere(E_for_time_delta\u001b[39m==\u001b[39mminE)\n\u001b[1;32m     <a href='vscode-notebook-cell://wsl%2Bubuntu-20.04/home/www/Document/Akebono_analysis_test/Akebono_analysis/VLF_mca/Akebono_ELF_data/akebono_elf_analysis.ipynb#W2sdnNjb2RlLXJlbW90ZQ%3D%3D?line=18'>19</a>\u001b[0m     \u001b[39mprint\u001b[39m(time_array[i], maxE_index, minE_index)\n\u001b[0;32m---> <a href='vscode-notebook-cell://wsl%2Bubuntu-20.04/home/www/Document/Akebono_analysis_test/Akebono_analysis/VLF_mca/Akebono_ELF_data/akebono_elf_analysis.ipynb#W2sdnNjb2RlLXJlbW90ZQ%3D%3D?line=20'>21</a>\u001b[0m     saturation_rate[i] \u001b[39m=\u001b[39m (maxE_index[\u001b[39m0\u001b[39;49m]\u001b[39m.\u001b[39;49msize \u001b[39m+\u001b[39;49m minE_index[\u001b[39m0\u001b[39;49m]\u001b[39m.\u001b[39;49msize)\u001b[39m/\u001b[39;49mtime_index[\u001b[39m0\u001b[39;49m]\u001b[39m.\u001b[39;49msize\n\u001b[1;32m     <a href='vscode-notebook-cell://wsl%2Bubuntu-20.04/home/www/Document/Akebono_analysis_test/Akebono_analysis/VLF_mca/Akebono_ELF_data/akebono_elf_analysis.ipynb#W2sdnNjb2RlLXJlbW90ZQ%3D%3D?line=22'>23</a>\u001b[0m pytplot\u001b[39m.\u001b[39mstore_data(\u001b[39m'\u001b[39m\u001b[39msaturation_rate\u001b[39m\u001b[39m'\u001b[39m, data\u001b[39m=\u001b[39m{\u001b[39m'\u001b[39m\u001b[39mtimes\u001b[39m\u001b[39m'\u001b[39m:time_array, \u001b[39m'\u001b[39m\u001b[39my\u001b[39m\u001b[39m'\u001b[39m:saturation_rate})\n\u001b[1;32m     <a href='vscode-notebook-cell://wsl%2Bubuntu-20.04/home/www/Document/Akebono_analysis_test/Akebono_analysis/VLF_mca/Akebono_ELF_data/akebono_elf_analysis.ipynb#W2sdnNjb2RlLXJlbW90ZQ%3D%3D?line=24'>25</a>\u001b[0m pytplot\u001b[39m.\u001b[39moptions(\u001b[39m'\u001b[39m\u001b[39mdE_wav_narrow\u001b[39m\u001b[39m'\u001b[39m, \u001b[39m'\u001b[39m\u001b[39myrange\u001b[39m\u001b[39m'\u001b[39m, [\u001b[39m-\u001b[39m\u001b[39m1500\u001b[39m, \u001b[39m1500\u001b[39m])\n",
      "\u001b[0;31mZeroDivisionError\u001b[0m: division by zero"
     ]
    }
   ],
   "source": [
    "import pytplot\n",
    "import numpy as np\n",
    "pytplot.cdf_to_tplot('ak_h1_elf_19900211_v03.cdf')\n",
    "E = pytplot.get_data('dE_wav_narrow')\n",
    "\n",
    "maxE, minE = max(E.y), min(E.y)\n",
    "time_delta = 1 #s\n",
    "time_array = np.arange(E.times[0], E.times[0]+int(24*3600/time_delta), time_delta)\n",
    "\n",
    "saturation_rate = np.empty(time_array.size)\n",
    "\n",
    "for i in range(time_array.size-1):\n",
    "    time_index = np.where((E.times >= time_array[i]) & (E.times < time_array[i+1]))\n",
    "    E_for_time_delta = E.y[time_index]\n",
    "    \n",
    "    maxE_index = np.where(E_for_time_delta==maxE)\n",
    "    minE_index = np.where(E_for_time_delta==minE)\n",
    "    \n",
    "    print(time_array[i], maxE_index, minE_index)\n",
    "    \n",
    "    saturation_rate[i] = (maxE_index[0].size + minE_index[0].size)/time_index[0].size\n",
    "\n",
    "pytplot.store_data('saturation_rate', data={'times':time_array, 'y':saturation_rate})\n",
    "        \n",
    "pytplot.options('dE_wav_narrow', 'yrange', [-1500, 1500])\n",
    "pytplot.tplot(['dE_wav_narrow', 'saturation_rate'])"
   ]
  },
  {
   "cell_type": "code",
   "execution_count": 1,
   "metadata": {},
   "outputs": [
    {
     "name": "stderr",
     "output_type": "stream",
     "text": [
      "/usr/local/lib/python3.8/dist-packages/erfa/core.py:154: ErfaWarning: ERFA function \"dtf2d\" yielded 1 of \"dubious year (Note 6)\"\n",
      "  warnings.warn('ERFA function \"{}\" yielded {}'.format(func_name, wmsg),\n"
     ]
    }
   ],
   "source": [
    "from pytplot import cdf_to_tplot, get_data, store_data, options, tplot, tlimit\n",
    "import numpy as np\n",
    "\n",
    "cdf_to_tplot('ak_h1_elf_19900211_v03.cdf')\n",
    "E = get_data('dE_wav_narrow')\n",
    "\n",
    "maxE, minE = max(E.y), min(E.y)\n",
    "time_delta = 1 #s\n",
    "time_array = np.arange(E.times[0], E.times[0]+int(24*3600/time_delta), time_delta)\n",
    "\n",
    "saturation_rate = np.empty(time_array.size)\n",
    "\n",
    "for i in range(time_array.size-1):\n",
    "    time_index = np.where((E.times >= time_array[i]) & (E.times < time_array[i+1]))\n",
    "    E_for_time_delta = E.y[time_index]\n",
    "    \n",
    "    maxE_index = np.where(E_for_time_delta==maxE)\n",
    "    minE_index = np.where(E_for_time_delta==minE)\n",
    "    \n",
    "    print(time_array[i], maxE_index, minE_index)\n",
    "    try:\n",
    "        saturation_rate[i] = (maxE_index[0].size + minE_index[0].size)/time_index[0].size\n",
    "    except:\n",
    "        saturation_rate[i] = np.nan\n",
    "\n",
    "store_data('saturation_rate', data={'x':time_array, 'y':saturation_rate})\n",
    "\n",
    "Efield = E/(30*-2.15*20)\n",
    "store_data('dE_waveform_narrow', data={'x':E.times, 'y':Efield})\n",
    "options('dE_wav_narrow', 'yrange', [-1.5, 1.5])\n",
    "tlimit(['1990-02-11 18:00:00', '1990-02-11 18:15:00'])\n",
    "tplot(['dE_wav_narrow','saturation_rate'])"
   ]
  },
  {
   "cell_type": "markdown",
   "metadata": {},
   "source": [
    "ELF spectram data plot"
   ]
  },
  {
   "cell_type": "code",
   "execution_count": 77,
   "metadata": {},
   "outputs": [
    {
     "name": "stdout",
     "output_type": "stream",
     "text": [
      "(10800,) (10800,)\n",
      "(10799, 128) (10800, 128)\n",
      "128 128\n"
     ]
    },
    {
     "data": {
      "image/png": "[encoded data removed]",
      "text/plain": [
       "<Figure size 576x720 with 2 Axes>"
      ]
     },
     "metadata": {
      "needs_background": "light"
     },
     "output_type": "display_data"
    }
   ],
   "source": [
    "import cdflib\n",
    "import pyspedas, pytplot\n",
    "\n",
    "cdf_file1 = cdflib.CDF('./elf/ak_h1_elf_19900104_v01.cdf')\n",
    "cdf_file2 = cdflib.CDF('./elf/ak_h1_elf_19900105_v01.cdf')\n",
    "\n",
    "epoch1 = cdf_file1.varget('Epoch')\n",
    "epoch2 = cdf_file2.varget('Epoch')\n",
    "E1 = cdf_file1.varget('E')\n",
    "E2 = cdf_file2.varget('E')\n",
    "freq1 = cdf_file1.varget('Frequency')\n",
    "freq2 = cdf_file2.varget('Frequency')\n",
    "\n",
    "print(epoch1.shape, epoch2.shape)\n",
    "print(E1.shape, E2.shape)\n",
    "print(freq1.size, freq2.size)\n",
    "\n",
    "epoch_unixtime = cdflib.cdfepoch.unixtime(epoch2)\n",
    "pytplot.store_data('elf_Efield_spec', data={'x':epoch_unixtime, 'y':E2, 'v':freq2})\n",
    "pytplot.options('elf_Efield_spec', 'spec', 1)\n",
    "pytplot.options('elf_Efield_spec', 'ylog', 1)\n",
    "pytplot.tplot('elf_Efield_spec')"
   ]
  },
  {
   "cell_type": "code",
   "execution_count": 60,
   "metadata": {},
   "outputs": [
    {
     "data": {
      "text/plain": [
       "('1990-01-04 00:00:04.000000', '1990-01-04 00:00:12.000000')"
      ]
     },
     "execution_count": 60,
     "metadata": {},
     "output_type": "execute_result"
    }
   ],
   "source": [
    "epoch = cdf_file2.varget('Epoch')\n",
    "epoch_unixtime = cdflib.cdfepoch.unixtime(epoch)\n",
    "import pyspedas\n",
    "time_string = pyspedas.time_string(epoch_unixtime)\n",
    "time_string[0], time_string[1]"
   ]
  },
  {
   "cell_type": "code",
   "execution_count": 6,
   "metadata": {},
   "outputs": [
    {
     "data": {
      "text/plain": [
       "{'CDF': PosixPath('/home/www/Document/Akebono_analysis_test/Akebono_analysis/VLF_mca/Akebono_ELF_data/ak_h1_elf_19900206_v03.cdf'),\n",
       " 'Version': '2.7.2',\n",
       " 'Encoding': 6,\n",
       " 'Majority': 'Row_major',\n",
       " 'rVariables': [],\n",
       " 'zVariables': ['dE_wav_narrow',\n",
       "  'dBx_wav_narrow',\n",
       "  'dBy_wav_narrow',\n",
       "  'dBz_wav_narrow',\n",
       "  'E_axis',\n",
       "  'Mode',\n",
       "  'Epoch',\n",
       "  'Epoch_wav_narrow',\n",
       "  'PostGap'],\n",
       " 'Attributes': [{'Acknowledgement': 'Global'},\n",
       "  {'ADID_ref': 'Global'},\n",
       "  {'Data_type': 'Global'},\n",
       "  {'Data_version': 'Global'},\n",
       "  {'Descriptor': 'Global'},\n",
       "  {'Discipline': 'Global'},\n",
       "  {'Generated_by': 'Global'},\n",
       "  {'Generation_date': 'Global'},\n",
       "  {'Instrument_type': 'Global'},\n",
       "  {'Logical_file_id': 'Global'},\n",
       "  {'Logical_source': 'Global'},\n",
       "  {'Logical_source_description': 'Global'},\n",
       "  {'Mission_group': 'Global'},\n",
       "  {'MODS': 'Global'},\n",
       "  {'PI_affiliation': 'Global'},\n",
       "  {'PI_name': 'Global'},\n",
       "  {'Project': 'Global'},\n",
       "  {'Rules_of_use': 'Global'},\n",
       "  {'source_name': 'Global'},\n",
       "  {'TEXT': 'Global'},\n",
       "  {'Time_resolution': 'Global'},\n",
       "  {'TITLE': 'Global'},\n",
       "  {'Start_time': 'Global'},\n",
       "  {'End_time': 'Global'},\n",
       "  {'CATDESC': 'Variable'},\n",
       "  {'DEPEND_0': 'Variable'},\n",
       "  {'DICT_KEY': 'Variable'},\n",
       "  {'DISPLAY_TYPE': 'Variable'},\n",
       "  {'FIELDNAM': 'Variable'},\n",
       "  {'FILLVAL': 'Variable'},\n",
       "  {'FORMAT': 'Variable'},\n",
       "  {'LABLAXIS': 'Variable'},\n",
       "  {'MONOTON': 'Variable'},\n",
       "  {'SCALETYP': 'Variable'},\n",
       "  {'UNITS': 'Variable'},\n",
       "  {'VALIDMAX': 'Variable'},\n",
       "  {'VALIDMIN': 'Variable'},\n",
       "  {'VAR_NOTE': 'Variable'},\n",
       "  {'VAR_TYPE': 'Variable'}],\n",
       " 'Copyright': '\\nNSSDC Common Data Format (CDF)\\n(C) Copyright 1990-2004 NASA/GSFC\\nNational Space Science Data Center\\nNASA/Goddard Space Flight Center\\nGreenbelt, Maryland 20771 USA\\n(DECnet   -- NCF::CDFSUPPORT)\\n(Internet -- CDFSUPPORT@NSSDCA.GSFC.NASA.GOV)\\n',\n",
       " 'Checksum': False,\n",
       " 'Num_rdim': 0,\n",
       " 'rDim_sizes': [],\n",
       " 'Compressed': False}"
      ]
     },
     "execution_count": 6,
     "metadata": {},
     "output_type": "execute_result"
    }
   ],
   "source": [
    "import cdflib\n",
    "import pyspedas, pytplot\n",
    "\n",
    "cdf_file = cdflib.CDF('ak_h1_elf_19900206_v03.cdf')\n",
    "cdf_file.cdf_info()"
   ]
  },
  {
   "cell_type": "code",
   "execution_count": 7,
   "metadata": {},
   "outputs": [
    {
     "data": {
      "text/plain": [
       "{'Acknowledgement': 'AKEBONO VLF-ELF data were provided by Akebono VLF team through the data archive system at Kanazawa University in Japan.',\n",
       " 'ADID_ref': 'NSSD0241 ',\n",
       " 'Data_type': 'H1 > High Resolution data',\n",
       " 'Data_version': '3',\n",
       " 'Descriptor': 'ELF > ELF Receiver',\n",
       " 'Discipline': 'Space Physics > Magnetospheric Science',\n",
       " 'Generated_by': 'KANAZAWA University',\n",
       " 'Generation_date': '20141106',\n",
       " 'Instrument_type': 'Radio and Plasma Waves(space)',\n",
       " 'Logical_file_id': 'AK_H1_ELF_19900206_V03',\n",
       " 'Logical_source': 'AK_H1_ELF',\n",
       " 'Logical_source_description': 'Akebono Radio and Plasma Waves High Resolution data',\n",
       " 'Mission_group': 'Akebono',\n",
       " 'MODS': ' ',\n",
       " 'PI_affiliation': 'KANAZAWA University',\n",
       " 'PI_name': 'I. Nagano',\n",
       " 'Project': ' ',\n",
       " 'Rules_of_use': ' In order to confirm the reliability of the data, you are requested to contact the VLF PI, Prof. Isamu Nagano before using the VLF-ELF data in oral/poster presentations. In the publishment, you should contact to the VLF PI and contact person before the submission for the confirmation of the principle of authorship/aknowledgement. You are also requested to send reprints to AKEBONO Project Office and the VLF PI:\\n\\nAKEBONO Project Office:\\n  Prof. Toshifumi Mukai (Project Scientist),\\n  Institute of Space and Astronautical Science,\\n  3-1-1 Yoshinodai, Sagamihara, Kanagawa 229-8510, Japan\\n  E-mail: mukai@stp.isas.jaxa.jp\\n  FAX: +81-42-759-8456\\n\\nVLF PI:\\n  Prof. Isamu Nagano,\\n  Kanazawa University,\\n  Kakuma, Kanazawa 920-1192, Japan\\n  E-mail: nagano@is.t.kanazawa-u.ac.jp\\n  FAX: +81-76-234-4859\\n\\nFor further information, please contact with:\\n  Dr. Yoshiya Kasahara\\n  Kanazawa University,\\n  Kakuma, Kanazawa 920-1192, Japan\\n  E-mail: kasahara@is.t.kanazawa-u.ac.jp\\n  FAX: +81-76-234-4952\\n',\n",
       " 'source_name': 'Akebono > Akebono satellite',\n",
       " 'TEXT': 'Kimura, I., K. Hashimoto, I. Nagano, T. Okada, M. Yamamoto, T. Yoshino, H. Matsumoto, M. Ejiri, and K. Hayashi,\\nVLF observations by the Akebono (EXOS-D) satellite,\\nJ. Geomagn. Geoelectr., 42(4), pp.459-478, 1990\\n',\n",
       " 'Time_resolution': '160Hz',\n",
       " 'TITLE': 'Akebono ELF High resolution data',\n",
       " 'Start_time': '1990_02/06_0:0:0:0',\n",
       " 'End_time': '1990_02/06_23:59:59:999'}"
      ]
     },
     "execution_count": 7,
     "metadata": {},
     "output_type": "execute_result"
    }
   ],
   "source": [
    "cdf_file.globalattsget()"
   ]
  },
  {
   "cell_type": "code",
   "execution_count": 55,
   "metadata": {},
   "outputs": [
    {
     "name": "stdout",
     "output_type": "stream",
     "text": [
      "[' ' ' ' ' ' ... 'n' 'n' 'n']\n"
     ]
    }
   ],
   "source": [
    "'E',\n",
    "'B',\n",
    "'By_narrow',\n",
    "'Bz_narrow',\n",
    "'E_axis',\n",
    "'Mode',\n",
    "'Epoch',\n",
    "'PostGap',\n",
    "'Frequency'\n",
    "\n",
    "E = cdf_file.varget('E')\n",
    "epoch = cdf_file.varget('Epoch')\n",
    "mode = cdf_file.varget('Mode')\n",
    "\n",
    "print(mode)"
   ]
  },
  {
   "cell_type": "code",
   "execution_count": 34,
   "metadata": {},
   "outputs": [
    {
     "data": {
      "text/plain": [
       "datetime.datetime(1970, 1, 1, 0, 0, tzinfo=datetime.timezone.utc)"
      ]
     },
     "execution_count": 34,
     "metadata": {},
     "output_type": "execute_result"
    }
   ],
   "source": [
    "import pyspedas\n",
    "pyspedas.time_datetime(0)\n"
   ]
  },
  {
   "cell_type": "code",
   "execution_count": null,
   "metadata": {},
   "outputs": [],
   "source": []
  }
 ],
 "metadata": {
  "kernelspec": {
   "display_name": "Python 3.8.10 64-bit",
   "language": "python",
   "name": "python3"
  },
  "language_info": {
   "codemirror_mode": {
    "name": "ipython",
    "version": 3
   },
   "file_extension": ".py",
   "mimetype": "text/x-python",
   "name": "python",
   "nbconvert_exporter": "python",
   "pygments_lexer": "ipython3",
   "version": "3.8.10"
  },
  "orig_nbformat": 4,
  "vscode": {
   "interpreter": {
    "hash": "916dbcbb3f70747c44a77c7bcd40155683ae19c65e1c03b4aa3499c5328201f1"
   }
  }
 },
 "nbformat": 4,
 "nbformat_minor": 2
}
