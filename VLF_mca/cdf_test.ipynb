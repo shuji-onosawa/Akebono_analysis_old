{
 "cells": [
  {
   "cell_type": "markdown",
   "metadata": {},
   "source": [
    "cdflibの説明書\n",
    "https://cdflib.readthedocs.io/en/latest/introduction.html\n",
    "akebono cdfについて\\\n",
    "分かったこと\\\n",
    "・Epochはある基準時刻からの経過時間を記録したもの\\\n",
    "・cdflib.cdfepoch.breakdown(epoch, True or False)  #True だとndarray, False だとlistで返す\\\n",
    "・↑のやつで[year, month, day, hour, minute, socond, milisecond]がたくさん入ったListを作れる\\\n",
    "・E, BはdBで入っていると思われる。(DARTSにあったときはそうだった)\\\n",
    "　The intensities are described in [dB] (0<I<254) where\n",
    "  0[dB]=10^-6[mV/m] for E-field and 0[dB] = 10^-6[pT] for B-field.\\\n",
    "・MCAのinput の最大は1 Vrms\\\n",
    "分からないこと\\\n",
    "・Eaveの平均の仕方は？　Emaxはどの幅の最大？\\\n"
   ]
  },
  {
   "cell_type": "markdown",
   "metadata": {},
   "source": [
    "データダウンロードからtplot変数にするまでできれば、tplotが使える\n"
   ]
  },
  {
   "cell_type": "code",
   "execution_count": 9,
   "metadata": {},
   "outputs": [],
   "source": [
    "import cdflib\n",
    "cdf_file = cdflib.CDF('ak_h1_mca_19890401_v02.cdf')"
   ]
  },
  {
   "cell_type": "code",
   "execution_count": 10,
   "metadata": {},
   "outputs": [
    {
     "data": {
      "text/plain": [
       "{'CDF': PosixPath('/home/www/Document/Akebono_analysis/Akebono_analysis/VLF_mca/ak_h1_mca_19890401_v02.cdf'),\n",
       " 'Version': '2.7.2',\n",
       " 'Encoding': 6,\n",
       " 'Majority': 'Row_major',\n",
       " 'rVariables': [],\n",
       " 'zVariables': ['Emax', 'Eave', 'Bmax', 'Bave', 'PostGap', 'Epoch', 'channel'],\n",
       " 'Attributes': [{'Acknowledgement': 'Global'},\n",
       "  {'ADID_ref': 'Global'},\n",
       "  {'Data_type': 'Global'},\n",
       "  {'Data_version': 'Global'},\n",
       "  {'Descriptor': 'Global'},\n",
       "  {'Discipline': 'Global'},\n",
       "  {'Generated_by': 'Global'},\n",
       "  {'Generation_date': 'Global'},\n",
       "  {'Instrument_type': 'Global'},\n",
       "  {'Logical_file_id': 'Global'},\n",
       "  {'Logical_source': 'Global'},\n",
       "  {'Logical_source_description': 'Global'},\n",
       "  {'Mission_group': 'Global'},\n",
       "  {'MODS': 'Global'},\n",
       "  {'PI_affiliation': 'Global'},\n",
       "  {'PI_name': 'Global'},\n",
       "  {'Project': 'Global'},\n",
       "  {'Rules_of_use': 'Global'},\n",
       "  {'source_name': 'Global'},\n",
       "  {'TEXT': 'Global'},\n",
       "  {'Time_resolution': 'Global'},\n",
       "  {'TITLE': 'Global'},\n",
       "  {'Start_time': 'Global'},\n",
       "  {'End_time': 'Global'},\n",
       "  {'AVG_TYPE': 'Variable'},\n",
       "  {'CATDESC': 'Variable'},\n",
       "  {'DEPEND_0': 'Variable'},\n",
       "  {'DEPEND_1': 'Variable'},\n",
       "  {'DICT_KEY': 'Variable'},\n",
       "  {'DISPLAY_TYPE': 'Variable'},\n",
       "  {'FIELDNAM': 'Variable'},\n",
       "  {'FILLVAL': 'Variable'},\n",
       "  {'FORMAT': 'Variable'},\n",
       "  {'LABLAXIS': 'Variable'},\n",
       "  {'MONOTON': 'Variable'},\n",
       "  {'SCALETYP': 'Variable'},\n",
       "  {'UNITS': 'Variable'},\n",
       "  {'VALIDMAX': 'Variable'},\n",
       "  {'VALIDMIN': 'Variable'},\n",
       "  {'VAR_NOTE': 'Variable'},\n",
       "  {'VAR_TYPE': 'Variable'}],\n",
       " 'Copyright': '\\nNSSDC Common Data Format (CDF)\\n(C) Copyright 1990-2004 NASA/GSFC\\nNational Space Science Data Center\\nNASA/Goddard Space Flight Center\\nGreenbelt, Maryland 20771 USA\\n(DECnet   -- NCF::CDFSUPPORT)\\n(Internet -- CDFSUPPORT@NSSDCA.GSFC.NASA.GOV)\\n',\n",
       " 'Checksum': False,\n",
       " 'Num_rdim': 0,\n",
       " 'rDim_sizes': [],\n",
       " 'Compressed': False}"
      ]
     },
     "execution_count": 10,
     "metadata": {},
     "output_type": "execute_result"
    }
   ],
   "source": [
    "cdf_file.cdf_info()"
   ]
  },
  {
   "cell_type": "code",
   "execution_count": 5,
   "metadata": {},
   "outputs": [
    {
     "data": {
      "text/plain": [
       "array([2, 0, 0, ..., 1, 1, 1], dtype=uint32)"
      ]
     },
     "execution_count": 5,
     "metadata": {},
     "output_type": "execute_result"
    }
   ],
   "source": [
    "cdf_file.varget('PostGap')"
   ]
  },
  {
   "cell_type": "code",
   "execution_count": 15,
   "metadata": {},
   "outputs": [
    {
     "data": {
      "text/plain": [
       "{'scope': 2,\n",
       " 'next_adr_location': 13998,\n",
       " 'attribute_number': 39,\n",
       " 'num_gr_entry': 0,\n",
       " 'max_gr_entry': -1,\n",
       " 'num_z_entry': 5,\n",
       " 'max_z_entry': 4,\n",
       " 'first_z_entry': 13601,\n",
       " 'first_gr_entry': 0,\n",
       " 'name': 'VAR_NOTE'}"
      ]
     },
     "execution_count": 15,
     "metadata": {},
     "output_type": "execute_result"
    }
   ],
   "source": [
    "cdf_file.attinq('VAR_NOTE')"
   ]
  },
  {
   "cell_type": "code",
   "execution_count": 8,
   "metadata": {},
   "outputs": [
    {
     "data": {
      "text/plain": [
       "{'CDF': PosixPath('/home/www/Document/Akebono_analysis/Akebono_analysis/VLF_mca/ak_h1_mca_19890607_v02.cdf'),\n",
       " 'Version': '3.7.0',\n",
       " 'Encoding': 6,\n",
       " 'Majority': 'Row_major',\n",
       " 'rVariables': [],\n",
       " 'zVariables': [],\n",
       " 'Attributes': [],\n",
       " 'Copyright': '\\nCommon Data Format (CDF)\\nhttps://cdf.gsfc.nasa.gov\\nSpace Physics Data Facility\\nNASA/Goddard Space Flight Center\\nGreenbelt, Maryland 20771 USA\\n(User support: gsfc-cdf-support@lists.nasa.gov)\\n',\n",
       " 'Checksum': False,\n",
       " 'Num_rdim': 0,\n",
       " 'rDim_sizes': [],\n",
       " 'Compressed': False,\n",
       " 'LeapSecondUpdated': 20170101}"
      ]
     },
     "execution_count": 8,
     "metadata": {},
     "output_type": "execute_result"
    }
   ],
   "source": [
    "cdf_file.cdf_info()"
   ]
  },
  {
   "cell_type": "code",
   "execution_count": 9,
   "metadata": {},
   "outputs": [
    {
     "data": {
      "text/plain": [
       "{}"
      ]
     },
     "execution_count": 9,
     "metadata": {},
     "output_type": "execute_result"
    }
   ],
   "source": [
    "cdf_file.globalattsget()"
   ]
  },
  {
   "cell_type": "code",
   "execution_count": 9,
   "metadata": {},
   "outputs": [
    {
     "ename": "ValueError",
     "evalue": "No variable by this name: AVG_TYPE",
     "output_type": "error",
     "traceback": [
      "\u001b[0;31m---------------------------------------------------------------------------\u001b[0m",
      "\u001b[0;31mValueError\u001b[0m                                Traceback (most recent call last)",
      "\u001b[1;32m/home/www/Document/Akebono_analysis/Akebono_analysis/VLF_mca_cdf/cdf_test.ipynb Cell 7'\u001b[0m in \u001b[0;36m<cell line: 1>\u001b[0;34m()\u001b[0m\n\u001b[0;32m----> <a href='vscode-notebook-cell://wsl%2Bubuntu-20.04/home/www/Document/Akebono_analysis/Akebono_analysis/VLF_mca_cdf/cdf_test.ipynb#ch0000017vscode-remote?line=0'>1</a>\u001b[0m cdf_file\u001b[39m.\u001b[39;49mvarattsget(\u001b[39m'\u001b[39;49m\u001b[39mAVG_TYPE\u001b[39;49m\u001b[39m'\u001b[39;49m)\n",
      "File \u001b[0;32m~/.local/lib/python3.8/site-packages/cdflib/cdfread.py:710\u001b[0m, in \u001b[0;36mCDF.varattsget\u001b[0;34m(self, variable, expand, to_np)\u001b[0m\n\u001b[1;32m    708\u001b[0m         position \u001b[39m=\u001b[39m \u001b[39mself\u001b[39m\u001b[39m.\u001b[39m_first_rvariable\n\u001b[1;32m    709\u001b[0m         num_variables \u001b[39m=\u001b[39m \u001b[39mself\u001b[39m\u001b[39m.\u001b[39m_num_rvariable\n\u001b[0;32m--> 710\u001b[0m     \u001b[39mraise\u001b[39;00m \u001b[39mValueError\u001b[39;00m(\u001b[39mf\u001b[39m\u001b[39m'\u001b[39m\u001b[39mNo variable by this name: \u001b[39m\u001b[39m{\u001b[39;00mvariable\u001b[39m}\u001b[39;00m\u001b[39m'\u001b[39m)\n\u001b[1;32m    711\u001b[0m \u001b[39melif\u001b[39;00m \u001b[39misinstance\u001b[39m(variable, \u001b[39mint\u001b[39m):\n\u001b[1;32m    712\u001b[0m     \u001b[39mif\u001b[39;00m \u001b[39mself\u001b[39m\u001b[39m.\u001b[39m_num_zvariable \u001b[39m>\u001b[39m \u001b[39m0\u001b[39m:\n",
      "\u001b[0;31mValueError\u001b[0m: No variable by this name: AVG_TYPE"
     ]
    }
   ],
   "source": [
    "cdf_file.varattsget('AVG_TYPE')"
   ]
  },
  {
   "cell_type": "code",
   "execution_count": 12,
   "metadata": {},
   "outputs": [
    {
     "data": {
      "text/plain": [
       "['0 0 4',\n",
       " '0 0 12',\n",
       " '0 0 20',\n",
       " '0 0 28',\n",
       " '0 0 36',\n",
       " '0 0 44',\n",
       " '0 0 52',\n",
       " '0 1 0',\n",
       " '0 1 8',\n",
       " '0 1 16']"
      ]
     },
     "execution_count": 12,
     "metadata": {},
     "output_type": "execute_result"
    }
   ],
   "source": [
    "#実時間に直す部分\n",
    "epoch = cdf_file.varget('Epoch')\n",
    "test_breakdown = cdflib.cdfepoch.breakdown(epoch,False)\n",
    "\n",
    "for i in range(len(test_breakdown)):\n",
    "    del test_breakdown[i][0:3]\n",
    "    test_breakdown[i].pop()\n",
    "    test_breakdown[i] = \" \".join(map(str, test_breakdown[i]))\n",
    "test_breakdown[0:10]"
   ]
  },
  {
   "cell_type": "code",
   "execution_count": 4,
   "metadata": {},
   "outputs": [
    {
     "data": {
      "image/png": "[encoded data removed]",
      "text/plain": [
       "<Figure size 432x288 with 2 Axes>"
      ]
     },
     "metadata": {
      "needs_background": "light"
     },
     "output_type": "display_data"
    }
   ],
   "source": [
    "import numpy as np\n",
    "import matplotlib.pyplot as plt\n",
    "import matplotlib.dates as mdates\n",
    "from matplotlib.colors import Normalize \n",
    "from datetime import datetime\n",
    "from matplotlib.colors import LogNorm \n",
    "from matplotlib.colors import LinearSegmentedColormap\n",
    "import matplotlib.pyplot as plt\n",
    "\n",
    "cm_data = [[0.2081, 0.1663, 0.5292], [0.2116238095, 0.1897809524, 0.5776761905], \n",
    " [0.212252381, 0.2137714286, 0.6269714286], [0.2081, 0.2386, 0.6770857143], \n",
    " [0.1959047619, 0.2644571429, 0.7279], [0.1707285714, 0.2919380952, \n",
    "  0.779247619], [0.1252714286, 0.3242428571, 0.8302714286], \n",
    " [0.0591333333, 0.3598333333, 0.8683333333], [0.0116952381, 0.3875095238, \n",
    "  0.8819571429], [0.0059571429, 0.4086142857, 0.8828428571], \n",
    " [0.0165142857, 0.4266, 0.8786333333], [0.032852381, 0.4430428571, \n",
    "  0.8719571429], [0.0498142857, 0.4585714286, 0.8640571429], \n",
    " [0.0629333333, 0.4736904762, 0.8554380952], [0.0722666667, 0.4886666667, \n",
    "  0.8467], [0.0779428571, 0.5039857143, 0.8383714286], \n",
    " [0.079347619, 0.5200238095, 0.8311809524], [0.0749428571, 0.5375428571, \n",
    "  0.8262714286], [0.0640571429, 0.5569857143, 0.8239571429], \n",
    " [0.0487714286, 0.5772238095, 0.8228285714], [0.0343428571, 0.5965809524, \n",
    "  0.819852381], [0.0265, 0.6137, 0.8135], [0.0238904762, 0.6286619048, \n",
    "  0.8037619048], [0.0230904762, 0.6417857143, 0.7912666667], \n",
    " [0.0227714286, 0.6534857143, 0.7767571429], [0.0266619048, 0.6641952381, \n",
    "  0.7607190476], [0.0383714286, 0.6742714286, 0.743552381], \n",
    " [0.0589714286, 0.6837571429, 0.7253857143], \n",
    " [0.0843, 0.6928333333, 0.7061666667], [0.1132952381, 0.7015, 0.6858571429], \n",
    " [0.1452714286, 0.7097571429, 0.6646285714], [0.1801333333, 0.7176571429, \n",
    "  0.6424333333], [0.2178285714, 0.7250428571, 0.6192619048], \n",
    " [0.2586428571, 0.7317142857, 0.5954285714], [0.3021714286, 0.7376047619, \n",
    "  0.5711857143], [0.3481666667, 0.7424333333, 0.5472666667], \n",
    " [0.3952571429, 0.7459, 0.5244428571], [0.4420095238, 0.7480809524, \n",
    "  0.5033142857], [0.4871238095, 0.7490619048, 0.4839761905], \n",
    " [0.5300285714, 0.7491142857, 0.4661142857], [0.5708571429, 0.7485190476, \n",
    "  0.4493904762], [0.609852381, 0.7473142857, 0.4336857143], \n",
    " [0.6473, 0.7456, 0.4188], [0.6834190476, 0.7434761905, 0.4044333333], \n",
    " [0.7184095238, 0.7411333333, 0.3904761905], \n",
    " [0.7524857143, 0.7384, 0.3768142857], [0.7858428571, 0.7355666667, \n",
    "  0.3632714286], [0.8185047619, 0.7327333333, 0.3497904762], \n",
    " [0.8506571429, 0.7299, 0.3360285714], [0.8824333333, 0.7274333333, 0.3217], \n",
    " [0.9139333333, 0.7257857143, 0.3062761905], [0.9449571429, 0.7261142857, \n",
    "  0.2886428571], [0.9738952381, 0.7313952381, 0.266647619], \n",
    " [0.9937714286, 0.7454571429, 0.240347619], [0.9990428571, 0.7653142857, \n",
    "  0.2164142857], [0.9955333333, 0.7860571429, 0.196652381], \n",
    " [0.988, 0.8066, 0.1793666667], [0.9788571429, 0.8271428571, 0.1633142857], \n",
    " [0.9697, 0.8481380952, 0.147452381], [0.9625857143, 0.8705142857, 0.1309], \n",
    " [0.9588714286, 0.8949, 0.1132428571], [0.9598238095, 0.9218333333, \n",
    "  0.0948380952], [0.9661, 0.9514428571, 0.0755333333], \n",
    " [0.9763, 0.9831, 0.0538]]\n",
    "\n",
    "parula_map = LinearSegmentedColormap.from_list('parula', cm_data)\n",
    "\n",
    "start_time, end_time = [1, 26, 0], [1, 36, 0] # hour, minute, second\n",
    "\n",
    "start_time, end_time = (3600*start_time[0] + 60*start_time[1] + start_time[2])//8, (3600*end_time[0] + 60*end_time[1] + end_time[2])//8\n",
    "\n",
    "epoch = cdf_file.varget('Epoch')\n",
    "time = cdflib.cdfepoch.breakdown(epoch,False) #list\n",
    "\n",
    "E0 = 1e-6\n",
    "\n",
    "bandwidth = np.array([0.94, 1.66, 3, 5.4, 9.4, 16.6, 30, 54, 94, 166, 300, 540, 940, 1660, 3000, 5400])\n",
    "Intensity_of_Eave = cdf_file.varget('Eave')[start_time:end_time]\n",
    "Intensity_of_Eave = (10**(Intensity_of_Eave/10)) * (E0**2) /bandwidth\n",
    "Intensity_of_Eave = np.fliplr(Intensity_of_Eave)\n",
    "\n",
    "for i in range(len(time)):\n",
    "    time[i].pop()\n",
    "    time[i] = \"/\".join(map(str, time[i]))\n",
    "time_list = [datetime.strptime(x, '%Y/%m/%d/%H/%M/%S') for x in time]\n",
    "time_list = time_list[start_time:end_time]\n",
    "\n",
    "channel_list = cdf_file.varget('channel').tolist()\n",
    "\n",
    "fig = plt.figure()\n",
    "ax1 = fig.add_subplot(111)\n",
    "mappable = ax1.pcolormesh(time_list, channel_list, np.flipud(Intensity_of_Eave.T), cmap = parula_map, norm=LogNorm(vmin=1e-4, vmax=0.5))\n",
    "fig.colorbar(mappable, label = '[(mV/m)^2/Hz]', shrink = 0.5)\n",
    "plt.yscale('log')\n",
    "plt.xlabel('June 7, 1989')\n",
    "plt.ylabel('E_ferq [Hz]')\n",
    "plt.gca().xaxis.set_major_formatter(mdates.DateFormatter('%H:%M'), )\n",
    "plt.xticks(rotation = 45)\n",
    "plt.gca().set_aspect('0.0005')\n",
    "plt.show()\n"
   ]
  },
  {
   "cell_type": "code",
   "execution_count": 64,
   "metadata": {},
   "outputs": [
    {
     "data": {
      "text/plain": [
       "1.0000000000000007e-08"
      ]
     },
     "execution_count": 64,
     "metadata": {},
     "output_type": "execute_result"
    }
   ],
   "source": [
    "a = 10**(100/20) * E0**2 /10\n",
    "a"
   ]
  },
  {
   "cell_type": "code",
   "execution_count": 65,
   "metadata": {},
   "outputs": [
    {
     "data": {
      "image/png": "[encoded data removed]",
      "text/plain": [
       "<Figure size 432x288 with 2 Axes>"
      ]
     },
     "metadata": {
      "needs_background": "light"
     },
     "output_type": "display_data"
    },
    {
     "data": {
      "text/plain": [
       "<Figure size 432x288 with 0 Axes>"
      ]
     },
     "metadata": {},
     "output_type": "display_data"
    }
   ],
   "source": [
    "start_time, end_time = [1, 26, 0], [1, 36, 0] # hour, minute, second\n",
    "\n",
    "start_time, end_time = (3600*start_time[0] + 60*start_time[1] + start_time[2])//8, (3600*end_time[0] + 60*end_time[1] + end_time[2])//8\n",
    "\n",
    "epoch = cdf_file.varget('Epoch')\n",
    "time = cdflib.cdfepoch.breakdown(epoch,False) #list\n",
    "\n",
    "Intensity_of_Eave = cdf_file.varget('Eave')[start_time:end_time]\n",
    "Intensity_of_Eave = np.fliplr(Intensity_of_Eave)\n",
    "\n",
    "for i in range(len(time)):\n",
    "    time[i].pop()\n",
    "    time[i] = \"/\".join(map(str, time[i]))\n",
    "time_list = [datetime.strptime(x, '%Y/%m/%d/%H/%M/%S') for x in time]\n",
    "time_list = time_list[start_time:end_time]\n",
    "\n",
    "channel_list = cdf_file.varget('channel').tolist()\n",
    "\n",
    "plt.figure()\n",
    "plt.pcolormesh(time_list, channel_list, np.flipud(Intensity_of_Eave.T), cmap = 'rainbow')\n",
    "plt.colorbar(label = '[dB]', shrink = 0.5)\n",
    "plt.yscale('log')\n",
    "plt.xlabel('June 7, 1989')\n",
    "plt.ylabel('E_ferq [Hz]')\n",
    "plt.gca().xaxis.set_major_formatter(mdates.DateFormatter('%H:%M'), )\n",
    "plt.xticks(rotation = 45)\n",
    "plt.gca().set_aspect('0.0005')\n",
    "plt.show()\n",
    "plt.savefig('19890607_0126-0136_E_spectrum.png')"
   ]
  },
  {
   "cell_type": "markdown",
   "metadata": {},
   "source": []
  },
  {
   "cell_type": "code",
   "execution_count": 92,
   "metadata": {},
   "outputs": [
    {
     "data": {
      "text/plain": [
       "(array([3.16e+00, 5.62e+00, 1.00e+01, 1.78e+01, 3.16e+01, 5.62e+01,\n",
       "        1.00e+02, 1.78e+02, 3.16e+02, 5.62e+02, 1.00e+03, 1.78e+03,\n",
       "        3.16e+03, 5.62e+03, 1.00e+04, 1.78e+04], dtype=float32),\n",
       " '3.16')"
      ]
     },
     "execution_count": 92,
     "metadata": {},
     "output_type": "execute_result"
    }
   ],
   "source": [
    "cdf_file.varget(\"channel\"), str(3.16e+00)"
   ]
  },
  {
   "cell_type": "code",
   "execution_count": 18,
   "metadata": {},
   "outputs": [
    {
     "data": {
      "text/plain": [
       "array([[ 0,  1,  2,  3],\n",
       "       [ 4,  5,  6,  7],\n",
       "       [ 8,  9, 10, 11]])"
      ]
     },
     "execution_count": 18,
     "metadata": {},
     "output_type": "execute_result"
    }
   ],
   "source": [
    "a = np.arange(0, 12).reshape(3,4)\n",
    "x = [0, 1, 2, 3]\n",
    "y = [1, 4, 9, 16]\n",
    "fig, ax = plt.subplots()\n",
    "mappable = ax.imshow(a, \n",
    "                     extent = [time_lims[0], time_lims[-1],  y_lims[0], y_lims[-1]],\n",
    "                     aspect='auto',\n",
    "                     cmap = 'rainbow',\n",
    "                     interpolation = 'none',\n",
    "                     filternorm = None)"
   ]
  },
  {
   "cell_type": "code",
   "execution_count": 78,
   "metadata": {},
   "outputs": [
    {
     "name": "stdout",
     "output_type": "stream",
     "text": [
      "viscm not found, falling back on simple display\n"
     ]
    },
    {
     "data": {
      "image/png": "[encoded data removed]",
      "text/plain": [
       "<Figure size 432x288 with 1 Axes>"
      ]
     },
     "metadata": {
      "needs_background": "light"
     },
     "output_type": "display_data"
    }
   ],
   "source": [
    "\n",
    "from matplotlib.colors import LinearSegmentedColormap\n",
    "import matplotlib.pyplot as plt\n",
    "\n",
    "cm_data = [[0.2081, 0.1663, 0.5292], [0.2116238095, 0.1897809524, 0.5776761905], \n",
    " [0.212252381, 0.2137714286, 0.6269714286], [0.2081, 0.2386, 0.6770857143], \n",
    " [0.1959047619, 0.2644571429, 0.7279], [0.1707285714, 0.2919380952, \n",
    "  0.779247619], [0.1252714286, 0.3242428571, 0.8302714286], \n",
    " [0.0591333333, 0.3598333333, 0.8683333333], [0.0116952381, 0.3875095238, \n",
    "  0.8819571429], [0.0059571429, 0.4086142857, 0.8828428571], \n",
    " [0.0165142857, 0.4266, 0.8786333333], [0.032852381, 0.4430428571, \n",
    "  0.8719571429], [0.0498142857, 0.4585714286, 0.8640571429], \n",
    " [0.0629333333, 0.4736904762, 0.8554380952], [0.0722666667, 0.4886666667, \n",
    "  0.8467], [0.0779428571, 0.5039857143, 0.8383714286], \n",
    " [0.079347619, 0.5200238095, 0.8311809524], [0.0749428571, 0.5375428571, \n",
    "  0.8262714286], [0.0640571429, 0.5569857143, 0.8239571429], \n",
    " [0.0487714286, 0.5772238095, 0.8228285714], [0.0343428571, 0.5965809524, \n",
    "  0.819852381], [0.0265, 0.6137, 0.8135], [0.0238904762, 0.6286619048, \n",
    "  0.8037619048], [0.0230904762, 0.6417857143, 0.7912666667], \n",
    " [0.0227714286, 0.6534857143, 0.7767571429], [0.0266619048, 0.6641952381, \n",
    "  0.7607190476], [0.0383714286, 0.6742714286, 0.743552381], \n",
    " [0.0589714286, 0.6837571429, 0.7253857143], \n",
    " [0.0843, 0.6928333333, 0.7061666667], [0.1132952381, 0.7015, 0.6858571429], \n",
    " [0.1452714286, 0.7097571429, 0.6646285714], [0.1801333333, 0.7176571429, \n",
    "  0.6424333333], [0.2178285714, 0.7250428571, 0.6192619048], \n",
    " [0.2586428571, 0.7317142857, 0.5954285714], [0.3021714286, 0.7376047619, \n",
    "  0.5711857143], [0.3481666667, 0.7424333333, 0.5472666667], \n",
    " [0.3952571429, 0.7459, 0.5244428571], [0.4420095238, 0.7480809524, \n",
    "  0.5033142857], [0.4871238095, 0.7490619048, 0.4839761905], \n",
    " [0.5300285714, 0.7491142857, 0.4661142857], [0.5708571429, 0.7485190476, \n",
    "  0.4493904762], [0.609852381, 0.7473142857, 0.4336857143], \n",
    " [0.6473, 0.7456, 0.4188], [0.6834190476, 0.7434761905, 0.4044333333], \n",
    " [0.7184095238, 0.7411333333, 0.3904761905], \n",
    " [0.7524857143, 0.7384, 0.3768142857], [0.7858428571, 0.7355666667, \n",
    "  0.3632714286], [0.8185047619, 0.7327333333, 0.3497904762], \n",
    " [0.8506571429, 0.7299, 0.3360285714], [0.8824333333, 0.7274333333, 0.3217], \n",
    " [0.9139333333, 0.7257857143, 0.3062761905], [0.9449571429, 0.7261142857, \n",
    "  0.2886428571], [0.9738952381, 0.7313952381, 0.266647619], \n",
    " [0.9937714286, 0.7454571429, 0.240347619], [0.9990428571, 0.7653142857, \n",
    "  0.2164142857], [0.9955333333, 0.7860571429, 0.196652381], \n",
    " [0.988, 0.8066, 0.1793666667], [0.9788571429, 0.8271428571, 0.1633142857], \n",
    " [0.9697, 0.8481380952, 0.147452381], [0.9625857143, 0.8705142857, 0.1309], \n",
    " [0.9588714286, 0.8949, 0.1132428571], [0.9598238095, 0.9218333333, \n",
    "  0.0948380952], [0.9661, 0.9514428571, 0.0755333333], \n",
    " [0.9763, 0.9831, 0.0538]]\n",
    "\n",
    "parula_map = LinearSegmentedColormap.from_list('parula', cm_data)\n",
    "# For use of \"viscm view\"\n",
    "test_cm = parula_map\n",
    "try:\n",
    "    from viscm import viscm\n",
    "    viscm(parula_map)\n",
    "except ImportError:\n",
    "        print(\"viscm not found, falling back on simple display\")\n",
    "        plt.imshow(np.linspace(0, 100, 256)[None, :], aspect='auto',\n",
    "                 cmap=parula_map)\n",
    "plt.show()"
   ]
  },
  {
   "cell_type": "code",
   "execution_count": 7,
   "metadata": {},
   "outputs": [
    {
     "ename": "AttributeError",
     "evalue": "'float' object has no attribute 'round'",
     "output_type": "error",
     "traceback": [
      "\u001b[0;31m---------------------------------------------------------------------------\u001b[0m",
      "\u001b[0;31mAttributeError\u001b[0m                            Traceback (most recent call last)",
      "\u001b[1;32m/home/www/Document/Akebono_analysis/Akebono_analysis/VLF_mca_cdf/cdf_test.ipynb Cell 16'\u001b[0m in \u001b[0;36m<cell line: 2>\u001b[0;34m()\u001b[0m\n\u001b[1;32m      <a href='vscode-notebook-cell://wsl%2Bubuntu-20.04/home/www/Document/Akebono_analysis/Akebono_analysis/VLF_mca_cdf/cdf_test.ipynb#ch0000015vscode-remote?line=0'>1</a>\u001b[0m a \u001b[39m=\u001b[39m \u001b[39m-\u001b[39m\u001b[39m2.0\u001b[39m\n\u001b[0;32m----> <a href='vscode-notebook-cell://wsl%2Bubuntu-20.04/home/www/Document/Akebono_analysis/Akebono_analysis/VLF_mca_cdf/cdf_test.ipynb#ch0000015vscode-remote?line=1'>2</a>\u001b[0m b \u001b[39m=\u001b[39m a\u001b[39m.\u001b[39;49mround()\n\u001b[1;32m      <a href='vscode-notebook-cell://wsl%2Bubuntu-20.04/home/www/Document/Akebono_analysis/Akebono_analysis/VLF_mca_cdf/cdf_test.ipynb#ch0000015vscode-remote?line=2'>3</a>\u001b[0m \u001b[39mprint\u001b[39m(b)\n",
      "\u001b[0;31mAttributeError\u001b[0m: 'float' object has no attribute 'round'"
     ]
    }
   ],
   "source": [
    "a = -2.0\n",
    "b = a.round()\n",
    "print(b)"
   ]
  },
  {
   "cell_type": "code",
   "execution_count": null,
   "metadata": {},
   "outputs": [],
   "source": []
  }
 ],
 "metadata": {
  "interpreter": {
   "hash": "916dbcbb3f70747c44a77c7bcd40155683ae19c65e1c03b4aa3499c5328201f1"
  },
  "kernelspec": {
   "display_name": "Python 3.8.10 64-bit",
   "language": "python",
   "name": "python3"
  },
  "language_info": {
   "codemirror_mode": {
    "name": "ipython",
    "version": 3
   },
   "file_extension": ".py",
   "mimetype": "text/x-python",
   "name": "python",
   "nbconvert_exporter": "python",
   "pygments_lexer": "ipython3",
   "version": "3.8.10"
  },
  "orig_nbformat": 4
 },
 "nbformat": 4,
 "nbformat_minor": 2
}
